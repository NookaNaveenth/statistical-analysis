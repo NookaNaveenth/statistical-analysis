{
  "nbformat": 4,
  "nbformat_minor": 0,
  "metadata": {
    "colab": {
      "provenance": [],
      "authorship_tag": "ABX9TyPx6AsIN2/flaSFS1B6xzKR",
      "include_colab_link": true
    },
    "kernelspec": {
      "name": "python3",
      "display_name": "Python 3"
    },
    "language_info": {
      "name": "python"
    }
  },
  "cells": [
    {
      "cell_type": "markdown",
      "metadata": {
        "id": "view-in-github",
        "colab_type": "text"
      },
      "source": [
        "<a href=\"https://colab.research.google.com/github/NookaNaveenth/statistical-analysis/blob/main/naveen18.ipynb\" target=\"_parent\"><img src=\"https://colab.research.google.com/assets/colab-badge.svg\" alt=\"Open In Colab\"/></a>"
      ]
    },
    {
      "cell_type": "markdown",
      "source": [
        "**Introduction**\n",
        "\n",
        "Statistical analysis is vital for data science and machine learning, helping to extract insights, predict outcomes, and make informed decisions. This session covers fundamental statistical methods using Python, with libraries such as pandas, numpy, and scipy, and applies these methods to datasets from sklearn, Kaggle, and the UCI Machine Learning Repository.\n",
        "\n",
        "\n",
        "\n",
        "**Section 1: Basic Concepts in Statistics**\n",
        "\n",
        "**Population and Sample**\n",
        "\n",
        "- **Population**: The complete set of observations (e.g., all adults in a city).\n",
        "- **Sample**: A subset of the population (e.g., 500 randomly selected adults) used for practical reasons like cost and time.\n",
        "\n",
        "**Need for Sampling**\n",
        "\n",
        "- **Cost Efficiency**: Reduces data collection costs.\n",
        "- **Time Efficiency**: Provides quicker insights.\n",
        "- **Feasibility**: Practical when studying the entire population isn't possible.\n",
        "- **Manageability**: Simplifies data analysis.\n",
        "\n",
        "**Benefits of Sampling**\n",
        "\n",
        "- **Accuracy**: Proper techniques ensure sample results reflect the population.\n",
        "- **Less Data Overhead**: Easier to analyze compared to large datasets.\n",
        "- **Focused Research**: Enables detailed analysis.\n",
        "\n",
        "**Section 2: Understanding Basic Statistical Methods**\n",
        "\n",
        "**Descriptive Statistics**\n",
        "\n",
        "- **Mean**: Average value.\n",
        "- **Median**: Middle value.\n",
        "- **Mode**: Most frequent value.\n",
        "- **Standard Deviation (SD)**: Dispersion around the mean.\n",
        "- **Variance**: Average squared deviation from the mean.\n",
        "- **Range**: Difference between maximum and minimum values.\n",
        "\n",
        "**Additional Measures:**\n",
        "\n",
        "- **Percentiles and Quartiles**: Indicate data spread.\n",
        "- **Interquartile Range (IQR)**: Range of the middle 50% of values.\n",
        "- **Skewness**: Asymmetry of data distribution.\n",
        "- **Kurtosis**: Tailedness of the distribution.\n",
        "\n",
        "**Inferential Statistics**\n",
        "\n",
        "- **Hypothesis Testing**: Tests hypotheses about population parameters.\n",
        "- **Confidence Intervals**: Range likely containing the true population parameter.\n",
        "- **Regression Analysis**: Models relationships between variables.\n",
        "- **ANOVA**: Compares means of multiple groups.\n",
        "- **Chi-Square Test**: Tests independence of categorical variables.\n",
        "\n",
        "\n",
        "\n",
        "**Section 3: Getting Started with Python for Statistical Analysis**\n",
        "\n",
        "Install necessary libraries with:\n",
        "\n",
        "```bash\n",
        "pip install pandas numpy scipy scikit-learn statsmodels\n",
        "```\n",
        "\n",
        "\n",
        "\n",
        "**Section 4: Applying Statistical Methods to Datasets**\n",
        "\n",
        "**Descriptive Statistics in Python**\n",
        "\n",
        "Use Python to compute measures like mean, median, and standard deviation to describe dataset features.\n",
        "\n",
        "**Inferential Statistics in Python**\n",
        "\n",
        "Apply techniques such as hypothesis testing and regression analysis to draw conclusions beyond the sample data.\n",
        "\n",
        "\n",
        "\n",
        "**Section 5: Exercises**\n",
        "\n",
        "**Exercise 1: Health-Related Dataset**\n",
        "\n",
        "1. Select a dataset from Kaggle or UCI.\n",
        "2. Load and analyze it using pandas.\n",
        "3. Calculate mean, median, mode, SD, and variance.\n",
        "4. Perform a hypothesis test.\n",
        "5. Compute a 95% confidence interval for a feature.\n",
        "\n",
        "**Exercise 2: Regression Analysis**\n",
        "\n",
        "1. Conduct a linear regression analysis on the dataset.\n",
        "2. Interpret coefficients, p-values, and R-squared.\n",
        "3. Visualize relationships and regression lines.\n",
        "\n",
        "**Section 6: Sample Code**                                                          \n",
        "To help you get started, here’s a comprehensive set of code examples that illustrate how to perform descriptive and inferential statistics using Python\n",
        "\n",
        ""
      ],
      "metadata": {
        "id": "y8aUjvphaDRu"
      }
    },
    {
      "cell_type": "markdown",
      "source": [
        "**Loading the Diabetes Dataset**"
      ],
      "metadata": {
        "id": "xl5ZUieOWBGL"
      }
    },
    {
      "cell_type": "code",
      "source": [
        "import pandas as pd\n",
        "from sklearn.datasets import load_iris\n",
        "\n",
        "# Load the dataset\n",
        "iris = load_iris()\n",
        "df = pd.DataFrame(data=iris.data, columns=iris.feature_names)\n",
        "df['target'] = iris.target\n",
        "\n",
        "# Display the first few rows\n",
        "print(df.head())\n"
      ],
      "metadata": {
        "colab": {
          "base_uri": "https://localhost:8080/"
        },
        "id": "FJpJGoZNR8Jl",
        "outputId": "828c67bc-48cb-4006-aecb-bf7cc26f951d"
      },
      "execution_count": null,
      "outputs": [
        {
          "output_type": "stream",
          "name": "stdout",
          "text": [
            "   sepal length (cm)  sepal width (cm)  petal length (cm)  petal width (cm)  \\\n",
            "0                5.1               3.5                1.4               0.2   \n",
            "1                4.9               3.0                1.4               0.2   \n",
            "2                4.7               3.2                1.3               0.2   \n",
            "3                4.6               3.1                1.5               0.2   \n",
            "4                5.0               3.6                1.4               0.2   \n",
            "\n",
            "   target  \n",
            "0       0  \n",
            "1       0  \n",
            "2       0  \n",
            "3       0  \n",
            "4       0  \n"
          ]
        }
      ]
    },
    {
      "cell_type": "markdown",
      "source": [
        "**Performing Descriptive Statistics**"
      ],
      "metadata": {
        "id": "g8GOjtpYWIWt"
      }
    },
    {
      "cell_type": "code",
      "source": [
        "# Calculate basic descriptive statistics\n",
        "print(\"Mean:\\n\", df.mean())\n",
        "print(\"\\nMedian:\\n\", df.median())\n",
        "print(\"\\nMode:\\n\", df.mode().iloc[0])\n",
        "print(\"\\nStandard Deviation:\\n\", df.std())\n",
        "print(\"\\nVariance:\\n\", df.var())\n",
        "\n",
        "# Additional descriptive statistics\n",
        "print(\"\\nRange:\\n\", df.max() - df.min())\n",
        "print(\"\\nSkewness:\\n\", df.skew())\n",
        "print(\"\\nKurtosis:\\n\", df.kurt())\n",
        "\n"
      ],
      "metadata": {
        "colab": {
          "base_uri": "https://localhost:8080/"
        },
        "id": "fmkaI2xuUIWM",
        "outputId": "3aaaaae7-1951-4ebc-886c-0d3f2e712677"
      },
      "execution_count": null,
      "outputs": [
        {
          "output_type": "stream",
          "name": "stdout",
          "text": [
            "Mean:\n",
            " sepal length (cm)    5.843333\n",
            "sepal width (cm)     3.057333\n",
            "petal length (cm)    3.758000\n",
            "petal width (cm)     1.199333\n",
            "target               1.000000\n",
            "dtype: float64\n",
            "\n",
            "Median:\n",
            " sepal length (cm)    5.80\n",
            "sepal width (cm)     3.00\n",
            "petal length (cm)    4.35\n",
            "petal width (cm)     1.30\n",
            "target               1.00\n",
            "dtype: float64\n",
            "\n",
            "Mode:\n",
            " sepal length (cm)    5.0\n",
            "sepal width (cm)     3.0\n",
            "petal length (cm)    1.4\n",
            "petal width (cm)     0.2\n",
            "target               0.0\n",
            "Name: 0, dtype: float64\n",
            "\n",
            "Standard Deviation:\n",
            " sepal length (cm)    0.828066\n",
            "sepal width (cm)     0.435866\n",
            "petal length (cm)    1.765298\n",
            "petal width (cm)     0.762238\n",
            "target               0.819232\n",
            "dtype: float64\n",
            "\n",
            "Variance:\n",
            " sepal length (cm)    0.685694\n",
            "sepal width (cm)     0.189979\n",
            "petal length (cm)    3.116278\n",
            "petal width (cm)     0.581006\n",
            "target               0.671141\n",
            "dtype: float64\n",
            "\n",
            "Range:\n",
            " sepal length (cm)    3.6\n",
            "sepal width (cm)     2.4\n",
            "petal length (cm)    5.9\n",
            "petal width (cm)     2.4\n",
            "target               2.0\n",
            "dtype: float64\n",
            "\n",
            "Skewness:\n",
            " sepal length (cm)    0.314911\n",
            "sepal width (cm)     0.318966\n",
            "petal length (cm)   -0.274884\n",
            "petal width (cm)    -0.102967\n",
            "target               0.000000\n",
            "dtype: float64\n",
            "\n",
            "Kurtosis:\n",
            " sepal length (cm)   -0.552064\n",
            "sepal width (cm)     0.228249\n",
            "petal length (cm)   -1.402103\n",
            "petal width (cm)    -1.340604\n",
            "target              -1.510135\n",
            "dtype: float64\n"
          ]
        }
      ]
    },
    {
      "cell_type": "markdown",
      "source": [
        "**Performing Inferential Statistics**"
      ],
      "metadata": {
        "id": "PrVuZnp2WOZd"
      }
    },
    {
      "cell_type": "code",
      "source": [
        "from scipy import stats\n",
        "import pandas as pd\n",
        "from sklearn.datasets import load_iris\n",
        "\n",
        "# Load the dataset\n",
        "iris = load_iris()\n",
        "df = pd.DataFrame(data=iris.data, columns=iris.feature_names)\n",
        "df['target'] = iris.target\n",
        "\n",
        "# Example data: Sepal length values\n",
        "sepal_length_values = df['sepal length (cm)']\n",
        "\n",
        "# Hypothetical population mean for Sepal length\n",
        "population_mean = 5.0\n",
        "\n",
        "# Perform one-sample t-test\n",
        "t_stat, p_value = stats.ttest_1samp(sepal_length_values, population_mean)\n",
        "\n",
        "print(f\"T-Statistic: {t_stat}\")\n",
        "print(f\"P-Value: {p_value}\")\n"
      ],
      "metadata": {
        "colab": {
          "base_uri": "https://localhost:8080/"
        },
        "id": "7s3AZm4UU1A8",
        "outputId": "2cd0ef39-e1d9-49df-9087-2a9e9630e5e3"
      },
      "execution_count": null,
      "outputs": [
        {
          "output_type": "stream",
          "name": "stdout",
          "text": [
            "T-Statistic: 12.473257146694761\n",
            "P-Value: 6.670742299801927e-25\n"
          ]
        }
      ]
    },
    {
      "cell_type": "markdown",
      "source": [
        "**Confidence Intervals**"
      ],
      "metadata": {
        "id": "hafi6LUEWVg0"
      }
    },
    {
      "cell_type": "code",
      "source": [
        "import numpy as np\n",
        "from scipy import stats\n",
        "from sklearn.datasets import load_iris\n",
        "import pandas as pd\n",
        "\n",
        "# Load the dataset\n",
        "iris = load_iris()\n",
        "df = pd.DataFrame(data=iris.data, columns=iris.feature_names)\n",
        "\n",
        "# Example data: Sepal length values\n",
        "sepal_length_values = df['sepal length (cm)']\n",
        "\n",
        "# Sample mean and standard error for Sepal length\n",
        "sample_mean = np.mean(sepal_length_values)\n",
        "standard_error = stats.sem(sepal_length_values)\n",
        "\n",
        "# Compute 95% confidence interval for Sepal length\n",
        "confidence_interval = stats.norm.interval(0.95, loc=sample_mean, scale=standard_error)\n",
        "\n",
        "print(f\"95% Confidence Interval for Sepal Length: {confidence_interval}\")\n"
      ],
      "metadata": {
        "colab": {
          "base_uri": "https://localhost:8080/"
        },
        "id": "lv7ivscXVXZM",
        "outputId": "74e9bc07-8a65-4ab4-ce14-b16b00fbc8cf"
      },
      "execution_count": null,
      "outputs": [
        {
          "output_type": "stream",
          "name": "stdout",
          "text": [
            "95% Confidence Interval for Sepal Length: (5.710817588579892, 5.9758490780867755)\n"
          ]
        }
      ]
    },
    {
      "cell_type": "markdown",
      "source": [
        "**Regression Analysis**"
      ],
      "metadata": {
        "id": "Nz9UO0XUWcCd"
      }
    },
    {
      "cell_type": "code",
      "source": [
        "import statsmodels.api as sm\n",
        "from sklearn.datasets import load_iris\n",
        "import pandas as pd\n",
        "\n",
        "# Load the dataset\n",
        "iris = load_iris()\n",
        "df = pd.DataFrame(data=iris.data, columns=iris.feature_names)\n",
        "df['target'] = iris.target\n",
        "\n",
        "# Define independent variable (add constant for intercept)\n",
        "X = sm.add_constant(df['sepal length (cm)'])\n",
        "\n",
        "# Define dependent variable\n",
        "y = df['target']\n",
        "\n",
        "# Fit linear regression model\n",
        "model = sm.OLS(y, X).fit()\n",
        "\n",
        "# Print model summary\n",
        "print(model.summary())\n"
      ],
      "metadata": {
        "colab": {
          "base_uri": "https://localhost:8080/"
        },
        "id": "xn_snCtiV7rU",
        "outputId": "fa27e559-baaa-449d-9d17-95167599493c"
      },
      "execution_count": null,
      "outputs": [
        {
          "output_type": "stream",
          "name": "stdout",
          "text": [
            "                            OLS Regression Results                            \n",
            "==============================================================================\n",
            "Dep. Variable:                 target   R-squared:                       0.612\n",
            "Model:                            OLS   Adj. R-squared:                  0.610\n",
            "Method:                 Least Squares   F-statistic:                     233.8\n",
            "Date:                Tue, 03 Sep 2024   Prob (F-statistic):           2.89e-32\n",
            "Time:                        05:24:52   Log-Likelihood:                -111.35\n",
            "No. Observations:                 150   AIC:                             226.7\n",
            "Df Residuals:                     148   BIC:                             232.7\n",
            "Df Model:                           1                                         \n",
            "Covariance Type:            nonrobust                                         \n",
            "=====================================================================================\n",
            "                        coef    std err          t      P>|t|      [0.025      0.975]\n",
            "-------------------------------------------------------------------------------------\n",
            "const                -3.5240      0.299    -11.795      0.000      -4.114      -2.934\n",
            "sepal length (cm)     0.7742      0.051     15.292      0.000       0.674       0.874\n",
            "==============================================================================\n",
            "Omnibus:                        6.434   Durbin-Watson:                   1.228\n",
            "Prob(Omnibus):                  0.040   Jarque-Bera (JB):                6.576\n",
            "Skew:                           0.511   Prob(JB):                       0.0373\n",
            "Kurtosis:                       2.905   Cond. No.                         43.4\n",
            "==============================================================================\n",
            "\n",
            "Notes:\n",
            "[1] Standard Errors assume that the covariance matrix of the errors is correctly specified.\n"
          ]
        }
      ]
    },
    {
      "cell_type": "markdown",
      "source": [
        "**Conclusion**\n",
        "\n",
        "This article has provided a thorough introduction to statistical analysis using Python, covering both descriptive and inferential statistics. Understanding these fundamental concepts allows you to effectively summarize data, uncover patterns, and make informed predictions with real-world datasets.\n",
        "\n",
        "We started by discussing key concepts such as populations, samples, and the importance of sampling. These concepts are crucial for generalizing findings from a sample to a larger population and ensuring that your analyses are accurate and meaningful.\n",
        "\n",
        "Next, we explored descriptive statistics, which are essential for summarizing and interpreting data. Measures such as the mean, median, mode, standard deviation, variance, and range offer insights into the central tendency, spread, and distribution of data. Additional metrics like percentiles, skewness, and kurtosis provide deeper insights into data characteristics, helping identify trends, outliers, and patterns.\n",
        "\n",
        "We then covered inferential statistics, which allow for making predictions and drawing conclusions beyond the sample data. Techniques such as hypothesis testing, confidence intervals, regression analysis, ANOVA, and chi-square tests are fundamental for evaluating theories, testing assumptions, and understanding variable relationships. These methods are vital for making data-driven decisions and advancing research.\n",
        "\n",
        "By leveraging Python libraries like pandas, numpy, scipy, and statsmodels, you can perform comprehensive analyses on real-world datasets. The exercises in this article, involving datasets from Kaggle and the UCI Machine Learning Repository, will further enhance your practical skills and understanding of statistical methods.\n",
        "\n",
        "As you continue to develop your skills, you'll be better prepared to tackle complex data science challenges, make well-informed decisions, and contribute to impactful research and analysis. Mastering these statistical techniques will significantly enhance your proficiency as a data scientist or researcher.\n",
        "\n",
        "Keep exploring and experimenting to fully unlock the potential of statistical analysis in your work"
      ],
      "metadata": {
        "id": "xUzYOelNeIIe"
      }
    }
  ]
}
